{
 "cells": [
  {
   "cell_type": "code",
   "execution_count": null,
   "metadata": {},
   "outputs": [],
   "source": [
    "import pandas as pd\n",
    "import scipy"
   ]
  },
  {
   "cell_type": "code",
   "execution_count": 4,
   "metadata": {},
   "outputs": [],
   "source": [
    "ipl_auction_df = pd.read_csv('IPLData.csv')"
   ]
  },
  {
   "cell_type": "code",
   "execution_count": 5,
   "metadata": {},
   "outputs": [
    {
     "name": "stdout",
     "output_type": "stream",
     "text": [
      "<class 'pandas.core.frame.DataFrame'>\n",
      "RangeIndex: 130 entries, 0 to 129\n",
      "Data columns (total 26 columns):\n",
      " #   Column         Non-Null Count  Dtype  \n",
      "---  ------         --------------  -----  \n",
      " 0   Sl.NO.         130 non-null    int64  \n",
      " 1   PLAYER NAME    130 non-null    object \n",
      " 2   AGE            130 non-null    int64  \n",
      " 3   COUNTRY        130 non-null    object \n",
      " 4   TEAM           130 non-null    object \n",
      " 5   PLAYING ROLE   130 non-null    object \n",
      " 6   T-RUNS         130 non-null    int64  \n",
      " 7   T-WKTS         130 non-null    int64  \n",
      " 8   ODI-RUNS-S     130 non-null    int64  \n",
      " 9   ODI-SR-B       130 non-null    float64\n",
      " 10  ODI-WKTS       130 non-null    int64  \n",
      " 11  ODI-SR-BL      130 non-null    float64\n",
      " 12  CAPTAINCY EXP  130 non-null    int64  \n",
      " 13  RUNS-S         130 non-null    int64  \n",
      " 14  HS             130 non-null    int64  \n",
      " 15  AVE            130 non-null    float64\n",
      " 16  SR-B           130 non-null    float64\n",
      " 17  SIXERS         130 non-null    int64  \n",
      " 18  RUNS-C         130 non-null    int64  \n",
      " 19  WKTS           130 non-null    int64  \n",
      " 20  AVE-BL         130 non-null    float64\n",
      " 21  ECON           130 non-null    float64\n",
      " 22  SR-BL          130 non-null    float64\n",
      " 23  AUCTION YEAR   130 non-null    int64  \n",
      " 24  BASE PRICE     130 non-null    int64  \n",
      " 25  SOLD PRICE     130 non-null    int64  \n",
      "dtypes: float64(7), int64(15), object(4)\n",
      "memory usage: 26.5+ KB\n"
     ]
    }
   ],
   "source": [
    "ipl_auction_df.info()"
   ]
  },
  {
   "cell_type": "code",
   "execution_count": 6,
   "metadata": {},
   "outputs": [
    {
     "data": {
      "text/html": [
       "<div>\n",
       "<style scoped>\n",
       "    .dataframe tbody tr th:only-of-type {\n",
       "        vertical-align: middle;\n",
       "    }\n",
       "\n",
       "    .dataframe tbody tr th {\n",
       "        vertical-align: top;\n",
       "    }\n",
       "\n",
       "    .dataframe thead th {\n",
       "        text-align: right;\n",
       "    }\n",
       "</style>\n",
       "<table border=\"1\" class=\"dataframe\">\n",
       "  <thead>\n",
       "    <tr style=\"text-align: right;\">\n",
       "      <th></th>\n",
       "      <th>Sl.NO.</th>\n",
       "      <th>PLAYER NAME</th>\n",
       "      <th>AGE</th>\n",
       "      <th>COUNTRY</th>\n",
       "      <th>TEAM</th>\n",
       "      <th>PLAYING ROLE</th>\n",
       "      <th>T-RUNS</th>\n",
       "      <th>T-WKTS</th>\n",
       "      <th>ODI-RUNS-S</th>\n",
       "      <th>ODI-SR-B</th>\n",
       "    </tr>\n",
       "  </thead>\n",
       "  <tbody>\n",
       "    <tr>\n",
       "      <th>0</th>\n",
       "      <td>1</td>\n",
       "      <td>Abdulla, YA</td>\n",
       "      <td>2</td>\n",
       "      <td>SA</td>\n",
       "      <td>KXIP</td>\n",
       "      <td>Allrounder</td>\n",
       "      <td>0</td>\n",
       "      <td>0</td>\n",
       "      <td>0</td>\n",
       "      <td>0.00</td>\n",
       "    </tr>\n",
       "    <tr>\n",
       "      <th>1</th>\n",
       "      <td>2</td>\n",
       "      <td>Abdur Razzak</td>\n",
       "      <td>2</td>\n",
       "      <td>BAN</td>\n",
       "      <td>RCB</td>\n",
       "      <td>Bowler</td>\n",
       "      <td>214</td>\n",
       "      <td>18</td>\n",
       "      <td>657</td>\n",
       "      <td>71.41</td>\n",
       "    </tr>\n",
       "    <tr>\n",
       "      <th>2</th>\n",
       "      <td>3</td>\n",
       "      <td>Agarkar, AB</td>\n",
       "      <td>2</td>\n",
       "      <td>IND</td>\n",
       "      <td>KKR</td>\n",
       "      <td>Bowler</td>\n",
       "      <td>571</td>\n",
       "      <td>58</td>\n",
       "      <td>1269</td>\n",
       "      <td>80.62</td>\n",
       "    </tr>\n",
       "    <tr>\n",
       "      <th>3</th>\n",
       "      <td>4</td>\n",
       "      <td>Ashwin, R</td>\n",
       "      <td>1</td>\n",
       "      <td>IND</td>\n",
       "      <td>CSK</td>\n",
       "      <td>Bowler</td>\n",
       "      <td>284</td>\n",
       "      <td>31</td>\n",
       "      <td>241</td>\n",
       "      <td>84.56</td>\n",
       "    </tr>\n",
       "    <tr>\n",
       "      <th>4</th>\n",
       "      <td>5</td>\n",
       "      <td>Badrinath, S</td>\n",
       "      <td>2</td>\n",
       "      <td>IND</td>\n",
       "      <td>CSK</td>\n",
       "      <td>Batsman</td>\n",
       "      <td>63</td>\n",
       "      <td>0</td>\n",
       "      <td>79</td>\n",
       "      <td>45.93</td>\n",
       "    </tr>\n",
       "  </tbody>\n",
       "</table>\n",
       "</div>"
      ],
      "text/plain": [
       "   Sl.NO.   PLAYER NAME  AGE COUNTRY  TEAM PLAYING ROLE  T-RUNS  T-WKTS   \n",
       "0       1   Abdulla, YA    2      SA  KXIP   Allrounder       0       0  \\\n",
       "1       2  Abdur Razzak    2     BAN   RCB       Bowler     214      18   \n",
       "2       3   Agarkar, AB    2     IND   KKR       Bowler     571      58   \n",
       "3       4     Ashwin, R    1     IND   CSK       Bowler     284      31   \n",
       "4       5  Badrinath, S    2     IND   CSK      Batsman      63       0   \n",
       "\n",
       "   ODI-RUNS-S  ODI-SR-B  \n",
       "0           0      0.00  \n",
       "1         657     71.41  \n",
       "2        1269     80.62  \n",
       "3         241     84.56  \n",
       "4          79     45.93  "
      ]
     },
     "execution_count": 6,
     "metadata": {},
     "output_type": "execute_result"
    }
   ],
   "source": [
    "ipl_auction_df.iloc[0:5,0:10]"
   ]
  },
  {
   "cell_type": "code",
   "execution_count": null,
   "metadata": {},
   "outputs": [],
   "source": [
    "X_features = ['AGE', 'COUNTRY', 'PLAYING ROLE',\n",
    "       'T-RUNS', 'T-WKTS', 'ODI-RUNS-S', 'ODI-SR-B', 'ODI-WKTS', 'ODI-SR-BL',\n",
    "       'CAPTAINCY EXP', 'RUNS-S', 'HS', 'AVE', 'SR-B', 'SIXERS', 'RUNS-C',\n",
    "       'WKTS', 'AVE-BL', 'ECON', 'SR-BL']"
   ]
  },
  {
   "cell_type": "code",
   "execution_count": null,
   "metadata": {},
   "outputs": [],
   "source": [
    "X_features"
   ]
  },
  {
   "cell_type": "code",
   "execution_count": null,
   "metadata": {},
   "outputs": [],
   "source": [
    "ipl_auction_df['PLAYING ROLE'].unique()"
   ]
  },
  {
   "cell_type": "code",
   "execution_count": null,
   "metadata": {},
   "outputs": [],
   "source": [
    "pd.get_dummies(ipl_auction_df['PLAYING ROLE'])[0:5]"
   ]
  },
  {
   "cell_type": "code",
   "execution_count": null,
   "metadata": {},
   "outputs": [],
   "source": [
    "categorical_features = ['AGE','COUNTRY','PLAYING ROLE','CAPTAINCY EXP']"
   ]
  },
  {
   "cell_type": "code",
   "execution_count": null,
   "metadata": {},
   "outputs": [],
   "source": [
    "ipl_auction_encoded_df = pd.get_dummies(ipl_auction_df[X_features] , columns = categorical_features, drop_first = True)"
   ]
  },
  {
   "cell_type": "code",
   "execution_count": null,
   "metadata": {},
   "outputs": [],
   "source": [
    "ipl_auction_encoded_df"
   ]
  },
  {
   "cell_type": "code",
   "execution_count": null,
   "metadata": {},
   "outputs": [],
   "source": [
    "ipl_auction_encoded_df.columns"
   ]
  },
  {
   "cell_type": "code",
   "execution_count": null,
   "metadata": {},
   "outputs": [],
   "source": [
    "X_features = ipl_auction_encoded_df.columns"
   ]
  },
  {
   "cell_type": "code",
   "execution_count": null,
   "metadata": {},
   "outputs": [],
   "source": [
    "X_features\n"
   ]
  },
  {
   "cell_type": "code",
   "execution_count": null,
   "metadata": {},
   "outputs": [],
   "source": [
    "import statsmodels.api as sm\n",
    "from sklearn.model_selection import train_test_split\n"
   ]
  },
  {
   "cell_type": "code",
   "execution_count": null,
   "metadata": {},
   "outputs": [],
   "source": [
    "X = sm.add_constant(ipl_auction_encoded_df)\n",
    "Y = ipl_auction_df['SOLD PRICE']"
   ]
  },
  {
   "cell_type": "code",
   "execution_count": null,
   "metadata": {},
   "outputs": [],
   "source": [
    "train_X,test_X , train_y, test_y = train_test_split(X,Y,train_size=0.8, random_state = 42)"
   ]
  },
  {
   "cell_type": "code",
   "execution_count": null,
   "metadata": {},
   "outputs": [],
   "source": [
    "## creating the model\n",
    "ipl_model_1 = sm.OLS( train_y , train_X).fit()"
   ]
  },
  {
   "cell_type": "code",
   "execution_count": null,
   "metadata": {},
   "outputs": [],
   "source": [
    "ipl_model_1.summary2()"
   ]
  },
  {
   "cell_type": "code",
   "execution_count": null,
   "metadata": {},
   "outputs": [],
   "source": [
    "from statsmodels.stats.outliers_influence import variance_inflation_factor\n"
   ]
  },
  {
   "cell_type": "code",
   "execution_count": null,
   "metadata": {},
   "outputs": [],
   "source": [
    "def get_vif_factors(X):\n",
    "    X_matrix = X.values\n",
    "    vif = [ variance_inflation_factor(X_matrix , i) for i in range(X_matrix.shape[1])]\n",
    "    vif_factors = pd.DataFrame()\n",
    "    vif_factors = pd.DataFrame()\n",
    "    vif_factors['column'] = X.columns\n",
    "    vif_factors['VIF'] = vif\n",
    "    return vif_factors"
   ]
  },
  {
   "cell_type": "code",
   "execution_count": null,
   "metadata": {},
   "outputs": [],
   "source": [
    "vif_factors = get_vif_factors(X[X_features])\n",
    "vif_factors"
   ]
  },
  {
   "cell_type": "code",
   "execution_count": null,
   "metadata": {},
   "outputs": [],
   "source": [
    "vif_factors"
   ]
  },
  {
   "cell_type": "code",
   "execution_count": null,
   "metadata": {},
   "outputs": [],
   "source": [
    "columns_with_large_vif = vif_factors[vif_factors.VIF > 4].column"
   ]
  },
  {
   "cell_type": "code",
   "execution_count": null,
   "metadata": {},
   "outputs": [],
   "source": [
    "columns_with_large_vif"
   ]
  },
  {
   "cell_type": "code",
   "execution_count": null,
   "metadata": {},
   "outputs": [],
   "source": [
    "import matplotlib.pyplot as plt\n",
    "\n",
    "import seaborn as sn\n",
    "%matplotlib inline"
   ]
  },
  {
   "cell_type": "code",
   "execution_count": null,
   "metadata": {},
   "outputs": [],
   "source": [
    "plt.figure( figsize= (12,10))\n",
    "sn.heatmap(X[columns_with_large_vif].corr() , annot = True)"
   ]
  },
  {
   "cell_type": "code",
   "execution_count": null,
   "metadata": {},
   "outputs": [],
   "source": [
    "columns_to_be_removed = ['T-RUNS', 'T-WKTS', 'RUNS-S', 'HS',\n",
    "'AVE', 'RUNS-C', 'SR-B', 'AVE-BL',\n",
    "'ECON', 'ODI-SR-B', 'ODI-RUNS-S', 'AGE_2', 'SR-BL']"
   ]
  },
  {
   "cell_type": "code",
   "execution_count": null,
   "metadata": {},
   "outputs": [],
   "source": [
    "X_new_features = list(set(X_features) - set(columns_to_be_removed))"
   ]
  },
  {
   "cell_type": "code",
   "execution_count": null,
   "metadata": {},
   "outputs": [],
   "source": [
    "get_vif_factors(X[X_new_features])"
   ]
  },
  {
   "cell_type": "code",
   "execution_count": null,
   "metadata": {},
   "outputs": [],
   "source": [
    "X_new_features"
   ]
  },
  {
   "cell_type": "code",
   "execution_count": null,
   "metadata": {},
   "outputs": [],
   "source": [
    "train_X = train_X[X_new_features]\n",
    "ipl_model_2 = sm.OLS(train_y, train_X).fit()"
   ]
  },
  {
   "cell_type": "code",
   "execution_count": null,
   "metadata": {},
   "outputs": [],
   "source": [
    "ipl_model_2.summary2()"
   ]
  },
  {
   "cell_type": "code",
   "execution_count": null,
   "metadata": {},
   "outputs": [],
   "source": [
    "significant_vars = ['COUNTRY_IND','COUNTRY_ENG','SIXERS','CAPTAINCY EXP_1']"
   ]
  },
  {
   "cell_type": "code",
   "execution_count": null,
   "metadata": {},
   "outputs": [],
   "source": [
    "train_X = train_X[significant_vars]\n"
   ]
  },
  {
   "cell_type": "code",
   "execution_count": null,
   "metadata": {},
   "outputs": [],
   "source": [
    "ipl_model_3 = sm.OLS(train_y , train_X).fit()"
   ]
  },
  {
   "cell_type": "code",
   "execution_count": null,
   "metadata": {},
   "outputs": [],
   "source": [
    "ipl_model_3.summary2()"
   ]
  },
  {
   "cell_type": "markdown",
   "metadata": {},
   "source": [
    "# Residual Analysis in Multiple Linear Regression"
   ]
  },
  {
   "cell_type": "code",
   "execution_count": null,
   "metadata": {},
   "outputs": [],
   "source": [
    "###Residual plot for Homoscedasticity and model specification"
   ]
  },
  {
   "cell_type": "code",
   "execution_count": null,
   "metadata": {},
   "outputs": [],
   "source": [
    "scipy.stats.probplot(ipl_model_3.resid, dist=\"norm\", plot=plt)"
   ]
  },
  {
   "cell_type": "code",
   "execution_count": null,
   "metadata": {},
   "outputs": [],
   "source": []
  },
  {
   "cell_type": "markdown",
   "metadata": {},
   "source": [
    "##Residual plot for Homoscedasticity and model specification"
   ]
  },
  {
   "cell_type": "code",
   "execution_count": null,
   "metadata": {},
   "outputs": [],
   "source": [
    "def get_standardized_values( vals):\n",
    "    return ( vals - vals.mean())/vals.std()"
   ]
  },
  {
   "cell_type": "code",
   "execution_count": null,
   "metadata": {},
   "outputs": [],
   "source": [
    "def plot_resid_fitted( fitted , resid , title):\n",
    "    plt.scatter( get_standardized_values(fitted) , get_standardized_values(resid))\n",
    "    plt.title(title)\n",
    "    plt.xlabel('Standardized predicted values')\n",
    "    plt.ylabel('Standardized residual values')\n",
    "    plt.show()"
   ]
  },
  {
   "cell_type": "code",
   "execution_count": null,
   "metadata": {},
   "outputs": [],
   "source": [
    "plot_resid_fitted(ipl_model_3.fittedvalues, ipl_model_3.resid , 'figure')"
   ]
  },
  {
   "cell_type": "markdown",
   "metadata": {},
   "source": [
    "# Detecting influencers"
   ]
  },
  {
   "cell_type": "code",
   "execution_count": null,
   "metadata": {},
   "outputs": [],
   "source": [
    "k = train_X.shape[1]\n",
    "n = train_X.shape[0]"
   ]
  },
  {
   "cell_type": "code",
   "execution_count": null,
   "metadata": {},
   "outputs": [],
   "source": [
    "print('No. of variables' , k )"
   ]
  },
  {
   "cell_type": "code",
   "execution_count": null,
   "metadata": {},
   "outputs": [],
   "source": [
    "print('No of observations',n)"
   ]
  },
  {
   "cell_type": "code",
   "execution_count": null,
   "metadata": {},
   "outputs": [],
   "source": [
    "leverage_cutoff = 3*((k + 1)/n)"
   ]
  },
  {
   "cell_type": "code",
   "execution_count": null,
   "metadata": {},
   "outputs": [],
   "source": [
    "print(\"Cutoff for leverage values :\", round(leverage_cutoff ,3))"
   ]
  },
  {
   "cell_type": "code",
   "execution_count": null,
   "metadata": {},
   "outputs": [],
   "source": [
    "from statsmodels.graphics.regressionplots import influence_plot\n",
    "fig,ax = plt.subplots(figsize = (8,6))\n",
    "influence_plot(ipl_model_3, ax = ax)\n",
    "plt.title('Leverage Vs Residuals')\n",
    "plt.show()"
   ]
  },
  {
   "cell_type": "code",
   "execution_count": null,
   "metadata": {},
   "outputs": [],
   "source": [
    "ipl_auction_df[ipl_auction_df.index.isin([23,58,83])]"
   ]
  },
  {
   "cell_type": "markdown",
   "metadata": {},
   "source": [
    "# transforming response variable"
   ]
  },
  {
   "cell_type": "code",
   "execution_count": null,
   "metadata": {},
   "outputs": [],
   "source": [
    "'''\n",
    "transformation in MLR is used to address the following issues\n",
    "1. poor fit ( low r-squared error)\n",
    "2. residuals do not follow a normal distribution\n",
    "3. residuals are not homoscedastic\n",
    "4. found that that there is non linear relationship between independent and dependent variables\n",
    "'''"
   ]
  },
  {
   "cell_type": "code",
   "execution_count": null,
   "metadata": {},
   "outputs": [],
   "source": [
    "import numpy as np\n",
    "train_y = np.sqrt(train_y)\n",
    "train_y"
   ]
  },
  {
   "cell_type": "code",
   "execution_count": null,
   "metadata": {},
   "outputs": [],
   "source": [
    "ipl_model_4 = sm.OLS(train_y,train_X).fit()\n",
    "ipl_model_4.summary2()"
   ]
  },
  {
   "cell_type": "code",
   "execution_count": null,
   "metadata": {},
   "outputs": [],
   "source": [
    "#draw_pp_plot(ipl_model_4, ' figure Normal PP plot')\n",
    "scipy.stats.probplot(ipl_model_4.resid, dist=\"norm\", plot=plt)"
   ]
  },
  {
   "cell_type": "markdown",
   "metadata": {},
   "source": [
    "# Making predictions on the validation set"
   ]
  },
  {
   "cell_type": "code",
   "execution_count": null,
   "metadata": {},
   "outputs": [],
   "source": [
    "\n",
    "pred_y = ipl_model_4.predict(test_X[train_X.columns])\n",
    "pred_y\n"
   ]
  },
  {
   "cell_type": "markdown",
   "metadata": {},
   "source": [
    "# Measuring RMSE"
   ]
  },
  {
   "cell_type": "code",
   "execution_count": null,
   "metadata": {},
   "outputs": [],
   "source": [
    "from sklearn import metrics\n",
    "np.sqrt(metrics.mean_squared_error(pred_y, test_y))"
   ]
  },
  {
   "cell_type": "markdown",
   "metadata": {},
   "source": [
    "# measuring R-squared value"
   ]
  },
  {
   "cell_type": "code",
   "execution_count": null,
   "metadata": {},
   "outputs": [],
   "source": [
    "np.round(metrics.r2_score(pred_y, test_y),2)\n",
    "\n",
    "## How much accurate our model is"
   ]
  },
  {
   "cell_type": "code",
   "execution_count": null,
   "metadata": {},
   "outputs": [],
   "source": []
  }
 ],
 "metadata": {
  "kernelspec": {
   "display_name": "Python 3 (ipykernel)",
   "language": "python",
   "name": "python3"
  },
  "language_info": {
   "codemirror_mode": {
    "name": "ipython",
    "version": 3
   },
   "file_extension": ".py",
   "mimetype": "text/x-python",
   "name": "python",
   "nbconvert_exporter": "python",
   "pygments_lexer": "ipython3",
   "version": "3.10.9"
  }
 },
 "nbformat": 4,
 "nbformat_minor": 2
}
